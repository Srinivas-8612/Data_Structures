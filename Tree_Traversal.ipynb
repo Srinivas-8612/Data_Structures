{
  "nbformat": 4,
  "nbformat_minor": 0,
  "metadata": {
    "colab": {
      "provenance": [],
      "authorship_tag": "ABX9TyO4VqksbAtvLZFcq1Paxyh3",
      "include_colab_link": true
    },
    "kernelspec": {
      "name": "python3",
      "display_name": "Python 3"
    },
    "language_info": {
      "name": "python"
    }
  },
  "cells": [
    {
      "cell_type": "markdown",
      "metadata": {
        "id": "view-in-github",
        "colab_type": "text"
      },
      "source": [
        "<a href=\"https://colab.research.google.com/github/Srinivas-8612/Data_Structures/blob/main/Tree_Traversal.ipynb\" target=\"_parent\"><img src=\"https://colab.research.google.com/assets/colab-badge.svg\" alt=\"Open In Colab\"/></a>"
      ]
    },
    {
      "cell_type": "code",
      "execution_count": 1,
      "metadata": {
        "id": "KYUQhFUtkr_K"
      },
      "outputs": [],
      "source": [
        "class Node:\n",
        "    def __init__(self, data):\n",
        "        self.data = data\n",
        "        self.left = None\n",
        "        self.right = None"
      ]
    },
    {
      "cell_type": "code",
      "source": [
        "def inorder_traversal(root):\n",
        "    if root:\n",
        "        inorder_traversal(root.left)  # Traverse left subtree\n",
        "        print(root.data, end=\" \")    # Visit root\n",
        "        inorder_traversal(root.right) # Traverse right subtree"
      ],
      "metadata": {
        "id": "KiNiydlYq4r9"
      },
      "execution_count": 2,
      "outputs": []
    },
    {
      "cell_type": "code",
      "source": [
        "def preorder_traversal(root):\n",
        "    if root:\n",
        "        print(root.data, end=\" \")    # Visit root\n",
        "        preorder_traversal(root.left)  # Traverse left subtree\n",
        "        preorder_traversal(root.right) # Traverse right subtree"
      ],
      "metadata": {
        "id": "CvLmbdG7q8Aj"
      },
      "execution_count": 3,
      "outputs": []
    },
    {
      "cell_type": "code",
      "source": [
        "def postorder_traversal(root):\n",
        "    if root:\n",
        "        postorder_traversal(root.left)  # Traverse left subtree\n",
        "        postorder_traversal(root.right) # Traverse right subtree\n",
        "        print(root.data, end=\" \")    # Visit root"
      ],
      "metadata": {
        "id": "NhOITHYIq_Or"
      },
      "execution_count": 4,
      "outputs": []
    },
    {
      "cell_type": "code",
      "source": [
        "from collections import deque\n",
        "\n",
        "def levelorder_traversal(root):\n",
        "    if not root:\n",
        "        return\n",
        "\n",
        "    queue = deque([root])\n",
        "    while queue:\n",
        "        current_node = queue.popleft()\n",
        "        print(current_node.data, end=\" \")\n",
        "\n",
        "        if current_node.left:\n",
        "            queue.append(current_node.left)\n",
        "        if current_node.right:\n",
        "            queue.append(current_node.right)"
      ],
      "metadata": {
        "id": "X8pyb8lbrCFU"
      },
      "execution_count": 5,
      "outputs": []
    },
    {
      "cell_type": "code",
      "source": [
        "# Construct a sample binary tree\n",
        "root = Node(1)\n",
        "root.left = Node(2)\n",
        "root.right = Node(3)\n",
        "root.left.left = Node(4)\n",
        "root.left.right = Node(5)\n",
        "\n",
        "print(\"Inorder Traversal:\")\n",
        "inorder_traversal(root)  # Expected: 4 2 5 1 3\n",
        "print(\"\\nPreorder Traversal:\")\n",
        "preorder_traversal(root) # Expected: 1 2 4 5 3\n",
        "print(\"\\nPostorder Traversal:\")\n",
        "postorder_traversal(root) # Expected: 4 5 2 3 1\n",
        "print(\"\\nLevel-Order Traversal:\")\n",
        "levelorder_traversal(root) # Expected: 1 2 3 4 5"
      ],
      "metadata": {
        "colab": {
          "base_uri": "https://localhost:8080/"
        },
        "id": "fJnC-JYXrHnc",
        "outputId": "2dad9a9b-0c84-43db-bb1d-77063513f5f4"
      },
      "execution_count": 6,
      "outputs": [
        {
          "output_type": "stream",
          "name": "stdout",
          "text": [
            "Inorder Traversal:\n",
            "4 2 5 1 3 \n",
            "Preorder Traversal:\n",
            "1 2 4 5 3 \n",
            "Postorder Traversal:\n",
            "4 5 2 3 1 \n",
            "Level-Order Traversal:\n",
            "1 2 3 4 5 "
          ]
        }
      ]
    },
    {
      "cell_type": "code",
      "source": [
        "# Constructing the expression tree for (A + B) * C\n",
        "root = Node('*')\n",
        "root.left = Node('+')\n",
        "root.right = Node('C')\n",
        "root.left.left = Node('A')\n",
        "root.left.right = Node('B')\n",
        "\n",
        "print(\"Inorder Traversal (Infix):\")\n",
        "inorder_traversal(root)  # Output: ( A + B ) * C\n",
        "print(\"\\nPreorder Traversal (Prefix):\")\n",
        "preorder_traversal(root) # Output: * + A B C\n",
        "print(\"\\nPostorder Traversal (Postfix):\")\n",
        "postorder_traversal(root) # Output: A B + C *"
      ],
      "metadata": {
        "colab": {
          "base_uri": "https://localhost:8080/"
        },
        "id": "s0L7FXJ12Pdr",
        "outputId": "95df16b0-8f38-4cb0-fbe1-a10868bf24c2"
      },
      "execution_count": 7,
      "outputs": [
        {
          "output_type": "stream",
          "name": "stdout",
          "text": [
            "Inorder Traversal (Infix):\n",
            "A + B * C \n",
            "Preorder Traversal (Prefix):\n",
            "* + A B C \n",
            "Postorder Traversal (Postfix):\n",
            "A B + C * "
          ]
        }
      ]
    },
    {
      "cell_type": "code",
      "source": [
        "class Node:\n",
        "    def __init__(self, value):\n",
        "        self.value = value\n",
        "        self.left = None\n",
        "        self.right = None\n",
        "\n",
        "def build_expression_tree():\n",
        "    # Building the expression tree for (a-b)+(c*d)\n",
        "    # The root is '+'\n",
        "    root = Node('+')\n",
        "\n",
        "    # Left subtree for (a-b)\n",
        "    root.left = Node('-')\n",
        "    root.left.left = Node('a')\n",
        "    root.left.right = Node('b')\n",
        "\n",
        "    # Right subtree for (c*d)\n",
        "    root.right = Node('*')\n",
        "    root.right.left = Node('c')\n",
        "    root.right.right = Node('d')\n",
        "\n",
        "    return root\n",
        "\n",
        "def inorder_traversal(node):\n",
        "    if node:\n",
        "        inorder_traversal(node.left)\n",
        "        print(node.value, end=\" \")\n",
        "        inorder_traversal(node.right)\n",
        "\n",
        "def preorder_traversal(node):\n",
        "    if node:\n",
        "        print(node.value, end=\" \")\n",
        "        preorder_traversal(node.left)\n",
        "        preorder_traversal(node.right)\n",
        "\n",
        "def postorder_traversal(node):\n",
        "    if node:\n",
        "        postorder_traversal(node.left)\n",
        "        postorder_traversal(node.right)\n",
        "        print(node.value, end=\" \")\n",
        "\n",
        "# Build the expression tree\n",
        "expression_tree_root = build_expression_tree()\n",
        "\n",
        "print(\"Inorder Traversal (Infix Expression):\")\n",
        "inorder_traversal(expression_tree_root)\n",
        "print(\"\\n\")\n",
        "\n",
        "print(\"Preorder Traversal (Prefix Expression):\")\n",
        "preorder_traversal(expression_tree_root)\n",
        "print(\"\\n\")\n",
        "\n",
        "print(\"Postorder Traversal (Postfix Expression):\")\n",
        "postorder_traversal(expression_tree_root)\n",
        "print(\"\\n\")\n"
      ],
      "metadata": {
        "colab": {
          "base_uri": "https://localhost:8080/"
        },
        "id": "KBRNCSaR5hMq",
        "outputId": "e3e52281-d805-449a-ecbe-7a53e929141f"
      },
      "execution_count": 8,
      "outputs": [
        {
          "output_type": "stream",
          "name": "stdout",
          "text": [
            "Inorder Traversal (Infix Expression):\n",
            "a - b + c * d \n",
            "\n",
            "Preorder Traversal (Prefix Expression):\n",
            "+ - a b * c d \n",
            "\n",
            "Postorder Traversal (Postfix Expression):\n",
            "a b - c d * + \n",
            "\n"
          ]
        }
      ]
    }
  ]
}