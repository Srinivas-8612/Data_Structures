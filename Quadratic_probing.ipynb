{
  "nbformat": 4,
  "nbformat_minor": 0,
  "metadata": {
    "colab": {
      "provenance": [],
      "authorship_tag": "ABX9TyNgk7dvUWgfpga++a/jW0qm",
      "include_colab_link": true
    },
    "kernelspec": {
      "name": "python3",
      "display_name": "Python 3"
    },
    "language_info": {
      "name": "python"
    }
  },
  "cells": [
    {
      "cell_type": "markdown",
      "metadata": {
        "id": "view-in-github",
        "colab_type": "text"
      },
      "source": [
        "<a href=\"https://colab.research.google.com/github/Srinivas-8612/Data_Structures/blob/main/Quadratic_probing.ipynb\" target=\"_parent\"><img src=\"https://colab.research.google.com/assets/colab-badge.svg\" alt=\"Open In Colab\"/></a>"
      ]
    },
    {
      "cell_type": "code",
      "execution_count": 1,
      "metadata": {
        "colab": {
          "base_uri": "https://localhost:8080/"
        },
        "id": "Tr9lOTPMkr7H",
        "outputId": "2051f311-e8f9-4c43-ff9f-002ab7117488"
      },
      "outputs": [
        {
          "output_type": "stream",
          "name": "stdout",
          "text": [
            "0: None\n",
            "1: 31\n",
            "2: 41\n",
            "3: None\n",
            "4: None\n",
            "5: 18\n",
            "6: 44\n",
            "7: 59\n",
            "8: None\n",
            "9: 22\n",
            "10: 32\n",
            "11: None\n",
            "12: None\n",
            "Search 22: True\n",
            "Search 99: False\n"
          ]
        }
      ],
      "source": [
        "class QuadraticProbingHashTable:\n",
        "    def __init__(self, size):\n",
        "        self.size = size\n",
        "        self.table = [None] * size\n",
        "\n",
        "    def hash_function(self, key):\n",
        "        return key % self.size\n",
        "\n",
        "    def insert(self, key):\n",
        "        index = self.hash_function(key)\n",
        "        i = 0\n",
        "\n",
        "        while i < self.size:\n",
        "            new_index = (index + i * i) % self.size\n",
        "            if self.table[new_index] is None:\n",
        "                self.table[new_index] = key\n",
        "                return True\n",
        "            i += 1\n",
        "\n",
        "        print(\"Hash table is full!\")\n",
        "        return False\n",
        "\n",
        "    def search(self, key):\n",
        "        index = self.hash_function(key)\n",
        "        i = 0\n",
        "\n",
        "        while i < self.size:\n",
        "            new_index = (index + i * i) % self.size\n",
        "            if self.table[new_index] is None:\n",
        "                return False\n",
        "            if self.table[new_index] == key:\n",
        "                return True\n",
        "            i += 1\n",
        "\n",
        "        return False\n",
        "\n",
        "    def display(self):\n",
        "        for i, val in enumerate(self.table):\n",
        "            print(f\"{i}: {val}\")\n",
        "\n",
        "# Example usage\n",
        "ht = QuadraticProbingHashTable(13)\n",
        "\n",
        "keys = [18, 41, 22, 44, 59, 32, 31]\n",
        "for key in keys:\n",
        "    ht.insert(key)\n",
        "\n",
        "ht.display()\n",
        "\n",
        "print(\"Search 22:\", ht.search(22))\n",
        "print(\"Search 99:\", ht.search(99))"
      ]
    }
  ]
}