{
  "nbformat": 4,
  "nbformat_minor": 0,
  "metadata": {
    "colab": {
      "provenance": []
    },
    "kernelspec": {
      "name": "python3",
      "display_name": "Python 3"
    },
    "language_info": {
      "name": "python"
    }
  },
  "cells": [
    {
      "cell_type": "code",
      "source": [
        "class MyDictionary:\n",
        "    def __init__(self, size=10):\n",
        "        # Create a fixed-size array (list of empty lists for separate chaining)\n",
        "        self.size = size\n",
        "        self.buckets = [[] for _ in range(size)]\n",
        "\n",
        "    def _hash(self, key):\n",
        "        \"\"\"Simple hash function: sum of character codes modulo table size\"\"\"\n",
        "        hash_value = 0\n",
        "        for char in str(key):  # Convert key to string if needed\n",
        "            hash_value += ord(char)\n",
        "        return hash_value % self.size\n",
        "\n",
        "    def insert(self, key, value):\n",
        "        \"\"\"Insert or update key-value pair\"\"\"\n",
        "        index = self._hash(key)\n",
        "        bucket = self.buckets[index]\n",
        "\n",
        "        # Check if key exists, update if found\n",
        "        for pair in bucket:\n",
        "            if pair[0] == key:\n",
        "                pair = value\n",
        "                return\n",
        "\n",
        "        # Otherwise, append new key-value pair\n",
        "        bucket.append([key, value])\n",
        "\n",
        "    def search(self, key):\n",
        "        \"\"\"Search for a value by key\"\"\"\n",
        "        index = self._hash(key)\n",
        "        bucket = self.buckets[index]\n",
        "\n",
        "        for pair in bucket:\n",
        "            if pair == key:\n",
        "                return pair\n",
        "        return None  # Key not found\n",
        "\n",
        "    def delete(self, key):\n",
        "        \"\"\"Delete a key-value pair\"\"\"\n",
        "        index = self._hash(key)\n",
        "        bucket = self.buckets[index]\n",
        "\n",
        "        for i, pair in enumerate(bucket):\n",
        "            if pair == key:\n",
        "                del bucket[i]\n",
        "                return True\n",
        "\n",
        "        return False  # Key not found\n",
        "\n",
        "    def display(self):\n",
        "        \"\"\"Display the hash table\"\"\"\n",
        "        for i, bucket in enumerate(self.buckets):\n",
        "            print(f\"Bucket {i}: {bucket}\")\n",
        "\n",
        "\n",
        "# Example usage:\n",
        "my_dict = MyDictionary(size=5)\n",
        "\n",
        "my_dict.insert(\"name\", \"Alice\")\n",
        "my_dict.insert(\"age\", 25)\n",
        "my_dict.insert(\"city\", \"New York\")\n",
        "my_dict.insert(\"email\", \"alice@example.com\")\n",
        "\n",
        "\n",
        "# print(\"Searching 'name':\", my_dict.search(\"name\"))\n",
        "# print(\"Searching 'age':\", my_dict.search(\"age\"))\n",
        "\n",
        "my_dict.display()\n",
        "\n",
        "# my_dict.delete(\"age\")\n",
        "# print(\"\\nAfter deleting 'age':\")\n",
        "# my_dict.display()\n"
      ],
      "metadata": {
        "colab": {
          "base_uri": "https://localhost:8080/"
        },
        "id": "T4CVmSU0VNIV",
        "outputId": "8b0917f1-2729-4211-fb2b-85d803b62abb"
      },
      "execution_count": 1,
      "outputs": [
        {
          "output_type": "stream",
          "name": "stdout",
          "text": [
            "Bucket 0: [['email', 'alice@example.com']]\n",
            "Bucket 1: [['age', 25], ['city', 'New York']]\n",
            "Bucket 2: [['name', 'Alice']]\n",
            "Bucket 3: []\n",
            "Bucket 4: []\n"
          ]
        }
      ]
    }
  ]
}