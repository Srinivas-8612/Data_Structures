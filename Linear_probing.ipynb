{
  "nbformat": 4,
  "nbformat_minor": 0,
  "metadata": {
    "colab": {
      "provenance": [],
      "authorship_tag": "ABX9TyNkHQ09XqonYaZLL3IwZQtW",
      "include_colab_link": true
    },
    "kernelspec": {
      "name": "python3",
      "display_name": "Python 3"
    },
    "language_info": {
      "name": "python"
    }
  },
  "cells": [
    {
      "cell_type": "markdown",
      "metadata": {
        "id": "view-in-github",
        "colab_type": "text"
      },
      "source": [
        "<a href=\"https://colab.research.google.com/github/Srinivas-8612/Data_Structures/blob/main/Linear_probing.ipynb\" target=\"_parent\"><img src=\"https://colab.research.google.com/assets/colab-badge.svg\" alt=\"Open In Colab\"/></a>"
      ]
    },
    {
      "cell_type": "code",
      "execution_count": 1,
      "metadata": {
        "colab": {
          "base_uri": "https://localhost:8080/"
        },
        "id": "Gew0QClNqHEZ",
        "outputId": "a44d0b93-3db9-4ff9-cc1e-f9aaf0bbccaf"
      },
      "outputs": [
        {
          "output_type": "stream",
          "name": "stdout",
          "text": [
            "0: None\n",
            "1: None\n",
            "2: None\n",
            "3: 23\n",
            "4: 43\n",
            "5: 13\n",
            "6: 66\n",
            "7: 27\n",
            "8: 88\n",
            "9: None\n",
            "Search 27: True\n",
            "Search 99: False\n"
          ]
        }
      ],
      "source": [
        "class LinearProbingHashTable:\n",
        "    def __init__(self, size):\n",
        "        self.size = size\n",
        "        self.table = [None] * size\n",
        "\n",
        "    def hash_function(self, key):\n",
        "        return key % self.size\n",
        "\n",
        "    def insert(self, key):\n",
        "        index = self.hash_function(key)\n",
        "\n",
        "        for i in range(self.size):\n",
        "            new_index = (index + i) % self.size\n",
        "            if self.table[new_index] is None:\n",
        "                self.table[new_index] = key\n",
        "                return True\n",
        "        print(\"Hash table is full!\")\n",
        "        return False\n",
        "\n",
        "    def search(self, key):\n",
        "        index = self.hash_function(key)\n",
        "\n",
        "        for i in range(self.size):\n",
        "            new_index = (index + i) % self.size\n",
        "            if self.table[new_index] is None:\n",
        "                return False\n",
        "            if self.table[new_index] == key:\n",
        "                return True\n",
        "        return False\n",
        "\n",
        "    def display(self):\n",
        "        for i, val in enumerate(self.table):\n",
        "            print(f\"{i}: {val}\")\n",
        "\n",
        "# Example usage\n",
        "ht = LinearProbingHashTable(10)\n",
        "\n",
        "keys = [23, 43, 13, 27, 88, 66]\n",
        "for key in keys:\n",
        "    ht.insert(key)\n",
        "\n",
        "ht.display()\n",
        "\n",
        "print(\"Search 27:\", ht.search(27))\n",
        "print(\"Search 99:\", ht.search(99))\n"
      ]
    }
  ]
}