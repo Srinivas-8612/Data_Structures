{
  "nbformat": 4,
  "nbformat_minor": 0,
  "metadata": {
    "colab": {
      "provenance": [],
      "authorship_tag": "ABX9TyPUMXzLIBw5b6IiHdwgDjmD",
      "include_colab_link": true
    },
    "kernelspec": {
      "name": "python3",
      "display_name": "Python 3"
    },
    "language_info": {
      "name": "python"
    }
  },
  "cells": [
    {
      "cell_type": "markdown",
      "metadata": {
        "id": "view-in-github",
        "colab_type": "text"
      },
      "source": [
        "<a href=\"https://colab.research.google.com/github/Srinivas-8612/Data_Structures/blob/main/Binary_trees.ipynb\" target=\"_parent\"><img src=\"https://colab.research.google.com/assets/colab-badge.svg\" alt=\"Open In Colab\"/></a>"
      ]
    },
    {
      "cell_type": "code",
      "execution_count": 1,
      "metadata": {
        "colab": {
          "base_uri": "https://localhost:8080/"
        },
        "id": "QiZAqB6T3JWw",
        "outputId": "db92a7d3-059d-4638-f72a-7de75c6d6196"
      },
      "outputs": [
        {
          "output_type": "stream",
          "name": "stdout",
          "text": [
            "Enter number of nodes: 6\n",
            "Enter node values:\n",
            "2\n",
            "6\n",
            "5\n",
            "4\n",
            "9\n",
            "7\n",
            "\n",
            "Inorder Traversal: 4 6 9 2 7 5 \n",
            "Preorder Traversal: 2 6 4 9 5 7 \n",
            "Postorder Traversal: 4 9 6 7 5 2 \n",
            "Level Order Traversal: 2 6 5 4 9 7 "
          ]
        }
      ],
      "source": [
        "# Node class\n",
        "class Node:\n",
        "    def __init__(self, key):\n",
        "        self.key = key\n",
        "        self.left = None\n",
        "        self.right = None\n",
        "\n",
        "\n",
        "# Binary Tree class\n",
        "class BinaryTree:\n",
        "    def __init__(self):\n",
        "        self.root = None\n",
        "\n",
        "    # Insert nodes (Level Order Insertion for simplicity)\n",
        "    def insert(self, key):\n",
        "        new_node = Node(key)\n",
        "        if not self.root:\n",
        "            self.root = new_node\n",
        "            return\n",
        "\n",
        "        queue = [self.root]\n",
        "        while queue:\n",
        "            current = queue.pop(0)\n",
        "\n",
        "            if current.left is None:\n",
        "                current.left = new_node\n",
        "                return\n",
        "            else:\n",
        "                queue.append(current.left)\n",
        "\n",
        "            if current.right is None:\n",
        "                current.right = new_node\n",
        "                return\n",
        "            else:\n",
        "                queue.append(current.right)\n",
        "\n",
        "    # Inorder Traversal (Left -> Root -> Right)\n",
        "    def inorder(self, node):\n",
        "        if node:\n",
        "            self.inorder(node.left)\n",
        "            print(node.key, end=\" \")\n",
        "            self.inorder(node.right)\n",
        "\n",
        "    # Preorder Traversal (Root -> Left -> Right)\n",
        "    def preorder(self, node):\n",
        "        if node:\n",
        "            print(node.key, end=\" \")\n",
        "            self.preorder(node.left)\n",
        "            self.preorder(node.right)\n",
        "\n",
        "    # Postorder Traversal (Left -> Right -> Root)\n",
        "    def postorder(self, node):\n",
        "        if node:\n",
        "            self.postorder(node.left)\n",
        "            self.postorder(node.right)\n",
        "            print(node.key, end=\" \")\n",
        "\n",
        "    # Level Order Traversal\n",
        "    def level_order(self):\n",
        "        if not self.root:\n",
        "            return\n",
        "        queue = [self.root]\n",
        "        while queue:\n",
        "            current = queue.pop(0)\n",
        "            print(current.key, end=\" \")\n",
        "            if current.left:\n",
        "                queue.append(current.left)\n",
        "            if current.right:\n",
        "                queue.append(current.right)\n",
        "\n",
        "\n",
        "# Main program with user input\n",
        "if __name__ == \"__main__\":\n",
        "    tree = BinaryTree()\n",
        "\n",
        "    n = int(input(\"Enter number of nodes: \"))\n",
        "    print(\"Enter node values:\")\n",
        "\n",
        "    for _ in range(n):\n",
        "        val = int(input())\n",
        "        tree.insert(val)\n",
        "\n",
        "    print(\"\\nInorder Traversal: \", end=\"\")\n",
        "    tree.inorder(tree.root)\n",
        "\n",
        "    print(\"\\nPreorder Traversal: \", end=\"\")\n",
        "    tree.preorder(tree.root)\n",
        "\n",
        "    print(\"\\nPostorder Traversal: \", end=\"\")\n",
        "    tree.postorder(tree.root)\n",
        "\n",
        "    print(\"\\nLevel Order Traversal: \", end=\"\")\n",
        "    tree.level_order()"
      ]
    }
  ]
}